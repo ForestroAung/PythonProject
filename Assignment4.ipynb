{
  "nbformat": 4,
  "nbformat_minor": 0,
  "metadata": {
    "colab": {
      "provenance": [],
      "authorship_tag": "ABX9TyNbbf42eO0KVTdz71ySMmFB",
      "include_colab_link": true
    },
    "kernelspec": {
      "name": "python3",
      "display_name": "Python 3"
    },
    "language_info": {
      "name": "python"
    }
  },
  "cells": [
    {
      "cell_type": "markdown",
      "metadata": {
        "id": "view-in-github",
        "colab_type": "text"
      },
      "source": [
        "<a href=\"https://colab.research.google.com/github/ForestroAung/PythonProject/blob/master/Assignment4.ipynb\" target=\"_parent\"><img src=\"https://colab.research.google.com/assets/colab-badge.svg\" alt=\"Open In Colab\"/></a>"
      ]
    },
    {
      "cell_type": "code",
      "execution_count": null,
      "metadata": {
        "id": "A9g9xaguXO-e"
      },
      "outputs": [],
      "source": [
        "countries = ['Thailand', 'Vietnam', 'Malaysia', 'UAE']\n",
        "\n",
        "if 'UAE' in countries:\n",
        "    countries.remove('UAE')\n",
        "\n",
        "countries.append('Japan')\n",
        "\n",
        "for country in countries:\n",
        "    print(f'{country} contains {len(country)} letters!')"
      ]
    },
    {
      "cell_type": "code",
      "source": [
        "sampleDict={\n",
        "    \"class\":{\n",
        "        \"name\":\"Mile\",\n",
        "        \"marks\":{\n",
        "            \"physics\":70,\n",
        "            \"history\":80\n",
        "        }\n",
        "    }\n",
        "}\n",
        "history_marks = sampleDict[\"class\"][\"marks\"][\"history\"]\n",
        "\n",
        "print(\"Value of 'history' key:\", history_marks)"
      ],
      "metadata": {
        "colab": {
          "base_uri": "https://localhost:8080/"
        },
        "id": "Cv8AvvfZX9aG",
        "outputId": "63ba49a0-6b66-4c49-fd1b-31aba9d0fb64"
      },
      "execution_count": null,
      "outputs": [
        {
          "output_type": "stream",
          "name": "stdout",
          "text": [
            "Value of 'history' key: 80\n"
          ]
        }
      ]
    },
    {
      "cell_type": "code",
      "source": [
        "sample_Dict={\n",
        "    \"name\":\"Kelly\",\n",
        "    \"age\":25,\n",
        "    \"salary\":8000,\n",
        "    \"city\":\"Newyork\"}\n",
        "\n",
        "keys_to_extract=[\"name\",\"salary\"]\n",
        "extracted_dict = {key: sample_Dict[key] for key in keys_to_extract}\n",
        "\n",
        "# Print the new dictionary\n",
        "print(extracted_dict)"
      ],
      "metadata": {
        "colab": {
          "base_uri": "https://localhost:8080/"
        },
        "id": "8CiR1-vNYd8b",
        "outputId": "268fcb82-50b8-47d8-ea85-7c4448cb55b2"
      },
      "execution_count": null,
      "outputs": [
        {
          "output_type": "stream",
          "name": "stdout",
          "text": [
            "{'name': 'Kelly', 'salary': 8000}\n"
          ]
        }
      ]
    }
  ]
}