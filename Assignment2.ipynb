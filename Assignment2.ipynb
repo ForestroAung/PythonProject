{
  "nbformat": 4,
  "nbformat_minor": 0,
  "metadata": {
    "colab": {
      "provenance": [],
      "authorship_tag": "ABX9TyOgzlBJE1lamkP2FZBBov5r",
      "include_colab_link": true
    },
    "kernelspec": {
      "name": "python3",
      "display_name": "Python 3"
    },
    "language_info": {
      "name": "python"
    }
  },
  "cells": [
    {
      "cell_type": "markdown",
      "metadata": {
        "id": "view-in-github",
        "colab_type": "text"
      },
      "source": [
        "<a href=\"https://colab.research.google.com/github/ForestroAung/PythonProject/blob/master/Assignment2.ipynb\" target=\"_parent\"><img src=\"https://colab.research.google.com/assets/colab-badge.svg\" alt=\"Open In Colab\"/></a>"
      ]
    },
    {
      "cell_type": "code",
      "source": [
        "#Assignment2\n",
        "#Q1\n",
        "\n",
        "units = int(input(\"Enter the number of units consumed: \"))\n",
        "total_bill = 0\n",
        "\n",
        "if units <= 100:\n",
        "    total_bill = 0\n",
        "elif units <= 200:\n",
        "    total_bill = (units - 100) * 5\n",
        "else:\n",
        "    total_bill = 100 * 5\n",
        "    total_bill += (units - 200) * 10\n",
        "\n",
        "print(\"Total Bill Amount: Rs\", total_bill)"
      ],
      "metadata": {
        "id": "ptOmzdEW7VWH"
      },
      "execution_count": null,
      "outputs": []
    },
    {
      "cell_type": "code",
      "source": [],
      "metadata": {
        "id": "YLHLfi16cUS7"
      },
      "execution_count": null,
      "outputs": []
    },
    {
      "cell_type": "code",
      "source": [
        "#Assignment2\n",
        "#Q2\n",
        "try:\n",
        "    number = int(input(\"Enter a number: \"))\n",
        "\n",
        "    if number != 0:\n",
        "\n",
        "        last_digit = abs(number) % 10\n",
        "\n",
        "\n",
        "        print(\"The last digit of the number is:\", last_digit)\n",
        "    else:\n",
        "        print(\"Invalid input. Please enter a non-zero number.\")\n",
        "except ValueError:\n",
        "    print(\"Invalid input. Please enter a valid number.\")"
      ],
      "metadata": {
        "id": "_mc2zl06Ed3m"
      },
      "execution_count": null,
      "outputs": []
    },
    {
      "cell_type": "code",
      "source": [
        "#Assignment2\n",
        "#Q3\n",
        "\n",
        "number = input(\"Enter a number: \")\n",
        "\n",
        "if number:\n",
        "\n",
        "    last_digit = int(number[-1])\n",
        "\n",
        "\n",
        "    if last_digit % 3 == 0:\n",
        "        print(\"The last digit of the number is divisible by 3.\")\n",
        "    else:\n",
        "        print(\"The last digit of the number is not divisible by 3.\")\n",
        "else:\n",
        "    print(\"Invalid input. Please enter a valid number.\")"
      ],
      "metadata": {
        "id": "eDL94_M3FZMe"
      },
      "execution_count": null,
      "outputs": []
    },
    {
      "cell_type": "code",
      "source": [
        "#Assignment2\n",
        "#Q4\n",
        "\n",
        "percentage = float(input(\"Enter the percentage: \"))\n",
        "\n",
        "if percentage > 90:\n",
        "    grade = \"A\"\n",
        "elif percentage > 80:\n",
        "    grade = \"B\"\n",
        "elif percentage >= 60:\n",
        "    grade = \"C\"\n",
        "else:\n",
        "    grade = \"D\"\n",
        "\n",
        "print(f\"Grade: {grade}\")"
      ],
      "metadata": {
        "id": "AmDjMj-UchCF"
      },
      "execution_count": null,
      "outputs": []
    },
    {
      "cell_type": "code",
      "source": [
        "#Assignment2\n",
        "#Q5\n",
        "\n",
        "num1 = int(input(\"Enter the first number: \"))\n",
        "num2 = int(input(\"Enter the second number: \"))\n",
        "num3 = int(input(\"Enter the third number: \"))\n",
        "\n",
        "if num1 >= num2 and num1 >= num3:\n",
        "    if num2 >= num3:\n",
        "        second_largest = num2\n",
        "    else:\n",
        "        second_largest = num3\n",
        "elif num2 >= num1 and num2 >= num3:\n",
        "    if num1 >= num3:\n",
        "        second_largest = num1\n",
        "    else:\n",
        "        second_largest = num3\n",
        "else:\n",
        "    if num1 >= num2:\n",
        "        second_largest = num1\n",
        "    else:\n",
        "        second_largest = num2\n",
        "\n",
        "print(\"The second largest number is:\", second_largest)"
      ],
      "metadata": {
        "id": "Cca57kr1chxO"
      },
      "execution_count": null,
      "outputs": []
    },
    {
      "cell_type": "code",
      "source": [],
      "metadata": {
        "id": "Owa7hWQ0chqx"
      },
      "execution_count": null,
      "outputs": []
    }
  ]
}