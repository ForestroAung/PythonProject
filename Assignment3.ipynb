{
  "nbformat": 4,
  "nbformat_minor": 0,
  "metadata": {
    "colab": {
      "provenance": [],
      "authorship_tag": "ABX9TyPaPegQECLY3SnBanDF8N93",
      "include_colab_link": true
    },
    "kernelspec": {
      "name": "python3",
      "display_name": "Python 3"
    },
    "language_info": {
      "name": "python"
    }
  },
  "cells": [
    {
      "cell_type": "markdown",
      "metadata": {
        "id": "view-in-github",
        "colab_type": "text"
      },
      "source": [
        "<a href=\"https://colab.research.google.com/github/ForestroAung/PythonProject/blob/master/Assignment3.ipynb\" target=\"_parent\"><img src=\"https://colab.research.google.com/assets/colab-badge.svg\" alt=\"Open In Colab\"/></a>"
      ]
    },
    {
      "cell_type": "code",
      "execution_count": null,
      "metadata": {
        "id": "kr__5J6QUYYn"
      },
      "outputs": [],
      "source": [
        "def factorial(n):\n",
        "    if n == 0:\n",
        "        return 1\n",
        "    else:\n",
        "        result = 1\n",
        "        for i in range(1, n + 1):\n",
        "            result *= i\n",
        "        return result\n",
        "\n",
        "\n",
        "num = int(input(\"Enter a number: \"))\n",
        "fact = factorial(num)\n",
        "print(f\"The factorial of {num} is {fact}\")\n"
      ]
    },
    {
      "cell_type": "code",
      "source": [
        "n = int(input(\"Enter a range: \"))\n",
        "num = n\n",
        "while num >= 1:\n",
        "    print(num, end=\" \")\n",
        "    num -= 1\n",
        "print()"
      ],
      "metadata": {
        "id": "9xtgn98XUyFR"
      },
      "execution_count": null,
      "outputs": []
    },
    {
      "cell_type": "code",
      "source": [
        "x = [2, 3, 4, 5, 6, 7, 8]\n",
        "squares = []\n",
        "for num in x:\n",
        "    squares.append(num ** 2)\n",
        "print(\"Squares of the numbers:\", squares)"
      ],
      "metadata": {
        "id": "67RNEnC7VGQc"
      },
      "execution_count": null,
      "outputs": []
    },
    {
      "cell_type": "code",
      "source": [
        "x= [23,4,-6,23,-9,21,3,-45,-8]\n",
        "postive_number=[]\n",
        "negative_number=[]\n",
        "for num in x:\n",
        "  if num>0:\n",
        "    postive_number.append(num)\n",
        "  elif num<0:\n",
        "    negative_number.append(num)\n",
        "print('Postive:',postive_number)\n",
        "print('Negative:',negative_number)"
      ],
      "metadata": {
        "colab": {
          "base_uri": "https://localhost:8080/"
        },
        "id": "2-ORc71tVywz",
        "outputId": "ade077de-024e-414e-d0a0-216451a9957e"
      },
      "execution_count": null,
      "outputs": [
        {
          "output_type": "stream",
          "name": "stdout",
          "text": [
            "Postive: [23, 4, 23, 21, 3]\n",
            "Negative: [-6, -9, -45, -8]\n"
          ]
        }
      ]
    },
    {
      "cell_type": "code",
      "source": [
        "for num in range(7):\n",
        "  if num!=3 and num!=6:\n",
        "    print(num)"
      ],
      "metadata": {
        "colab": {
          "base_uri": "https://localhost:8080/"
        },
        "id": "N2g-yRWQWsoI",
        "outputId": "a6198a0f-60d8-4a4d-8e49-944dc2bffc06"
      },
      "execution_count": null,
      "outputs": [
        {
          "output_type": "stream",
          "name": "stdout",
          "text": [
            "0\n",
            "1\n",
            "2\n",
            "4\n",
            "5\n"
          ]
        }
      ]
    }
  ]
}