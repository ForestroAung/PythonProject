{
  "nbformat": 4,
  "nbformat_minor": 0,
  "metadata": {
    "colab": {
      "provenance": [],
      "authorship_tag": "ABX9TyOIgD1JrmXSOPME0PqLgBXy",
      "include_colab_link": true
    },
    "kernelspec": {
      "name": "python3",
      "display_name": "Python 3"
    },
    "language_info": {
      "name": "python"
    }
  },
  "cells": [
    {
      "cell_type": "markdown",
      "metadata": {
        "id": "view-in-github",
        "colab_type": "text"
      },
      "source": [
        "<a href=\"https://colab.research.google.com/github/ForestroAung/PythonProject/blob/master/Assignment1.ipynb\" target=\"_parent\"><img src=\"https://colab.research.google.com/assets/colab-badge.svg\" alt=\"Open In Colab\"/></a>"
      ]
    },
    {
      "cell_type": "code",
      "source": [
        "#Assignment1\n",
        "#Q1\n",
        "def area_of_the_circle (Radius):\n",
        "    area = Radius** 2 * pi\n",
        "    return area\n",
        "\n",
        "Radius = float (input (\"Please enter the radius of the circle: \"))\n",
        "print (\" The area of the circle is: \", area_of_the_circle (Radius))"
      ],
      "metadata": {
        "colab": {
          "base_uri": "https://localhost:8080/"
        },
        "id": "oichwkCe92G4",
        "outputId": "3c683292-612a-4a52-bcaf-211c3324cbbc"
      },
      "execution_count": null,
      "outputs": [
        {
          "output_type": "stream",
          "name": "stdout",
          "text": [
            "Please enter the radius of the given circle: 9\n",
            " The area of the given circle is:  254.46900494077323\n"
          ]
        }
      ]
    },
    {
      "cell_type": "code",
      "execution_count": null,
      "metadata": {
        "id": "iHfV61EA5jUT"
      },
      "outputs": [],
      "source": [
        "#Assignment1\n",
        "#Q2\n",
        "def simpleSwapFun_v1(a, b):\n",
        "    a,b=b,a\n",
        "    return a, b\n",
        "a=[1,2,3]\n",
        "b = [3,2,1]\n",
        "\n",
        "print('Before swapping:')\n",
        "print(f'a = ', (a))\n",
        "print(f'b = ', (b))\n",
        "\n",
        "a, b = simpleSwapFun_v1(a, b)\n",
        "print('After swapping:')\n",
        "print(f'a =  ', (a))\n",
        "print(f'b =  ', (b))"
      ]
    },
    {
      "cell_type": "code",
      "source": [
        "a = [1,2,3]\n",
        "b = [3,2,1]\n",
        "\n",
        "a, b = b, a\n",
        "print(\"a =\", a)\n",
        "print(\"b =\", b)"
      ],
      "metadata": {
        "id": "HH2pR66064RL"
      },
      "execution_count": null,
      "outputs": []
    },
    {
      "cell_type": "code",
      "source": [
        "#Assignment1\n",
        "#Q3\n",
        "(8 -( 3 * 2) )- (1 + 1)"
      ],
      "metadata": {
        "colab": {
          "base_uri": "https://localhost:8080/"
        },
        "id": "dAPeSG81-Vab",
        "outputId": "ae6cdc72-90a9-4fbb-b388-21dc41319d73"
      },
      "execution_count": null,
      "outputs": [
        {
          "output_type": "execute_result",
          "data": {
            "text/plain": [
              "0"
            ]
          },
          "metadata": {},
          "execution_count": 10
        }
      ]
    }
  ]
}