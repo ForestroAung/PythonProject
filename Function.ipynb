{
  "nbformat": 4,
  "nbformat_minor": 0,
  "metadata": {
    "colab": {
      "provenance": [],
      "authorship_tag": "ABX9TyMEiigmEiubSRjnu2eCcHnt",
      "include_colab_link": true
    },
    "kernelspec": {
      "name": "python3",
      "display_name": "Python 3"
    },
    "language_info": {
      "name": "python"
    }
  },
  "cells": [
    {
      "cell_type": "markdown",
      "metadata": {
        "id": "view-in-github",
        "colab_type": "text"
      },
      "source": [
        "<a href=\"https://colab.research.google.com/github/ForestroAung/PythonProject/blob/master/Function.ipynb\" target=\"_parent\"><img src=\"https://colab.research.google.com/assets/colab-badge.svg\" alt=\"Open In Colab\"/></a>"
      ]
    },
    {
      "cell_type": "code",
      "execution_count": null,
      "metadata": {
        "colab": {
          "base_uri": "https://localhost:8080/",
          "height": 141
        },
        "id": "ZkBaJz_mBdOO",
        "outputId": "1402031b-15cc-4d95-8453-a86d7cb56fc0"
      },
      "outputs": [
        {
          "output_type": "error",
          "ename": "SyntaxError",
          "evalue": "ignored",
          "traceback": [
            "\u001b[0;36m  File \u001b[0;32m\"<ipython-input-12-832924a50bd4>\"\u001b[0;36m, line \u001b[0;32m1\u001b[0m\n\u001b[0;31m    def Sum(x=0,y):\u001b[0m\n\u001b[0m                ^\u001b[0m\n\u001b[0;31mSyntaxError\u001b[0m\u001b[0;31m:\u001b[0m non-default argument follows default argument\n"
          ]
        }
      ],
      "source": [
        "def Sum(x=0,y):\n",
        "  sum=x+y\n",
        "  return\"The sum of {} and {} is {}\".format(x,y,sum)\n",
        "#print(Sum())\n",
        "print(Sum(x=8))\n",
        "print(Sum(7,7))\n",
        "\n"
      ]
    },
    {
      "cell_type": "code",
      "source": [
        "max(2,3,4,5)\n"
      ],
      "metadata": {
        "colab": {
          "base_uri": "https://localhost:8080/"
        },
        "id": "ieS_v53vo-po",
        "outputId": "b747d0d7-6be3-4cbd-8921-7829a0b6f41c"
      },
      "execution_count": null,
      "outputs": [
        {
          "output_type": "execute_result",
          "data": {
            "text/plain": [
              "5"
            ]
          },
          "metadata": {},
          "execution_count": 1
        }
      ]
    },
    {
      "cell_type": "code",
      "source": [
        "def my_function(*kids):\n",
        "\n",
        "  my_function('Emil','Tobias','Linus')\n",
        "  print('The youngest kid is'+ kids[2])\n"
      ],
      "metadata": {
        "id": "BAS8HXHVs7oD"
      },
      "execution_count": null,
      "outputs": []
    },
    {
      "cell_type": "code",
      "source": [
        "def summariation(*numbers):\n",
        "  sum=0\n",
        "  for num in numbers:\n",
        "    sum+=num\n",
        "    return sum\n",
        "  summariation(1,2,3,4,5)"
      ],
      "metadata": {
        "id": "z43GnDZ4tUqi"
      },
      "execution_count": null,
      "outputs": []
    },
    {
      "cell_type": "code",
      "source": [
        "def count_to_n(n):\n",
        "  for i in range(1,n+1):\n",
        "    print(i,end=\"  \")\n",
        "  print()\n",
        "\n",
        "print(\"Going to count to ten...\")\n",
        "count_to_n(10)\n",
        "print('to five')\n",
        "count_to_n(5)\n",
        "print('to 20')\n",
        "count_to_n(20)"
      ],
      "metadata": {
        "colab": {
          "base_uri": "https://localhost:8080/"
        },
        "id": "M1H_AlbbujnT",
        "outputId": "e9a975c4-db47-413c-fdb2-0e9d7de226e4"
      },
      "execution_count": null,
      "outputs": [
        {
          "output_type": "stream",
          "name": "stdout",
          "text": [
            "Going to count to ten...\n",
            "1  2  3  4  5  6  7  8  9  10  to five\n",
            "1  2  3  4  5  to 20\n",
            "1  2  3  4  5  6  7  8  9  10  11  12  13  14  15  16  17  18  19  20  "
          ]
        }
      ]
    },
    {
      "cell_type": "code",
      "source": [
        "def count(n):\n",
        "  for j in range(1,n+1):\n",
        "    print(j,end=\" \")\n",
        "  print()\n",
        "\n",
        "num=int(input('Enter your number'))\n",
        "for i in range(1,num+1):\n",
        "  count(i)\n",
        "\n"
      ],
      "metadata": {
        "colab": {
          "base_uri": "https://localhost:8080/"
        },
        "id": "r_17SWRwyu5h",
        "outputId": "d89a5a4b-f152-4498-c322-9c39c64d3101"
      },
      "execution_count": null,
      "outputs": [
        {
          "output_type": "stream",
          "name": "stdout",
          "text": [
            "Enter your number5\n",
            "1 \n",
            "1 2 \n",
            "1 2 3 \n",
            "1 2 3 4 \n",
            "1 2 3 4 5 \n"
          ]
        }
      ]
    },
    {
      "cell_type": "code",
      "source": [
        "n=int(input(\"Enter Facto\"))\n",
        "def fact(n):\n",
        "  r=1\n",
        "  while n>0:\n",
        "    r=r*n\n",
        "    n=n-1\n",
        "  return r\n",
        "print('Facorial of {}={}'.format(n,fact(r)))"
      ],
      "metadata": {
        "colab": {
          "base_uri": "https://localhost:8080/",
          "height": 228
        },
        "id": "wb3pdCbnQ46y",
        "outputId": "2d862964-48e5-4ed0-af94-9254efb1dd65"
      },
      "execution_count": null,
      "outputs": [
        {
          "name": "stdout",
          "output_type": "stream",
          "text": [
            "Enter Facto5\n"
          ]
        },
        {
          "output_type": "error",
          "ename": "NameError",
          "evalue": "ignored",
          "traceback": [
            "\u001b[0;31m---------------------------------------------------------------------------\u001b[0m",
            "\u001b[0;31mNameError\u001b[0m                                 Traceback (most recent call last)",
            "\u001b[0;32m<ipython-input-30-3025d2950239>\u001b[0m in \u001b[0;36m<cell line: 8>\u001b[0;34m()\u001b[0m\n\u001b[1;32m      6\u001b[0m     \u001b[0mn\u001b[0m\u001b[0;34m=\u001b[0m\u001b[0mn\u001b[0m\u001b[0;34m-\u001b[0m\u001b[0;36m1\u001b[0m\u001b[0;34m\u001b[0m\u001b[0;34m\u001b[0m\u001b[0m\n\u001b[1;32m      7\u001b[0m   \u001b[0;32mreturn\u001b[0m \u001b[0mr\u001b[0m\u001b[0;34m\u001b[0m\u001b[0;34m\u001b[0m\u001b[0m\n\u001b[0;32m----> 8\u001b[0;31m \u001b[0mprint\u001b[0m\u001b[0;34m(\u001b[0m\u001b[0;34m'Facorial of {}={}'\u001b[0m\u001b[0;34m.\u001b[0m\u001b[0mformat\u001b[0m\u001b[0;34m(\u001b[0m\u001b[0mn\u001b[0m\u001b[0;34m,\u001b[0m\u001b[0mfact\u001b[0m\u001b[0;34m(\u001b[0m\u001b[0mr\u001b[0m\u001b[0;34m)\u001b[0m\u001b[0;34m)\u001b[0m\u001b[0;34m)\u001b[0m\u001b[0;34m\u001b[0m\u001b[0;34m\u001b[0m\u001b[0m\n\u001b[0m",
            "\u001b[0;31mNameError\u001b[0m: name 'r' is not defined"
          ]
        }
      ]
    },
    {
      "cell_type": "code",
      "source": [
        "contacts ={}\n",
        "running =True\n",
        "while running:\n",
        "  command=input('A)dd D)elete L)ook up Q)uit:')\n",
        "  if command =='A'or command==\"a\":\n",
        "    name=input('Enter new name')\n",
        "    print('Enter phone number for', name, end=\" :\")\n",
        "    number=input()\n",
        "    contacts[name]=number\n",
        "  elif command =='D' or command =='d':\n",
        "    name=input('Enter name to delete:')\n",
        "    del contacts[name]\n",
        "  elif command =='L' or command =='l':\n",
        "      name=input('Enter name:')\n",
        "      if name in contacts:\n",
        "        print(name,contacts[name])\n",
        "      else:\n",
        "          print('Your name is not in contacts')\n",
        "  elif command =='Q' or command== 'q':\n",
        "    running=False\n",
        "  elif command ==\"lookup\":\n",
        "    print(contacts)\n",
        "  else:\n",
        "    print(command,'is not a valid contract')\n",
        "\n",
        "\n"
      ],
      "metadata": {
        "colab": {
          "base_uri": "https://localhost:8080/"
        },
        "id": "lx80IwUYk9OC",
        "outputId": "f4e17e26-1f97-4171-ba92-4b639da7b9ae"
      },
      "execution_count": null,
      "outputs": [
        {
          "name": "stdout",
          "output_type": "stream",
          "text": [
            "A)dd D)elete L)ook up Q)uit:love\n",
            "love is not a valid contract\n",
            "A)dd D)elete L)ook up Q)uit:234678\n",
            "234678 is not a valid contract\n",
            "A)dd D)elete L)ook up Q)uit:a\n",
            "Enter new nameyouwoo\n",
            "Enter phone number for youwoo :4567\n",
            "A)dd D)elete L)ook up Q)uit:q\n"
          ]
        }
      ]
    },
    {
      "cell_type": "code",
      "source": [
        "myanmar_toys={'Sin Yoke','Kyar Yoke','Yoke thay','Yoke thay'}\n",
        "print(myanmar_toys)\n",
        "print(type(myanmar_toys))\n",
        "print(len(myanmar_toys))"
      ],
      "metadata": {
        "colab": {
          "base_uri": "https://localhost:8080/"
        },
        "id": "1UAJ0RFXp0PX",
        "outputId": "17e624bb-b1f5-4daa-8859-bef93eb121ca"
      },
      "execution_count": null,
      "outputs": [
        {
          "output_type": "stream",
          "name": "stdout",
          "text": [
            "{'Kyar Yoke', 'Sin Yoke', 'Yoke thay'}\n",
            "<class 'set'>\n",
            "3\n"
          ]
        }
      ]
    },
    {
      "cell_type": "code",
      "source": [
        "myanmar_toys={'Sin Yoke','Kyar Yoke','Yoke thay','Kyar Yoke'}\n",
        "print('Sin Yoke'in myanmar_toys)\n",
        "for i in myanmar_toys:\n",
        "  print(i)"
      ],
      "metadata": {
        "colab": {
          "base_uri": "https://localhost:8080/"
        },
        "id": "-VADjFnasL8s",
        "outputId": "1a564302-026f-44fa-95cc-2d423b80e97b"
      },
      "execution_count": null,
      "outputs": [
        {
          "output_type": "stream",
          "name": "stdout",
          "text": [
            "True\n",
            "Kyar Yoke\n",
            "Sin Yoke\n",
            "Yoke thay\n"
          ]
        }
      ]
    },
    {
      "cell_type": "code",
      "source": [
        "empty_set= set()\n",
        "print(type(empty_set))\n",
        "empty_set.add(1)\n",
        "empty_set.add('Hello')\n",
        "empty_set.add(3)\n",
        "empty_set.add('Ni Hao')\n",
        "print(empty_set)"
      ],
      "metadata": {
        "colab": {
          "base_uri": "https://localhost:8080/"
        },
        "id": "1nBEp5lysy-_",
        "outputId": "01934aa3-18c4-40ae-e108-3e955e992360"
      },
      "execution_count": null,
      "outputs": [
        {
          "output_type": "stream",
          "name": "stdout",
          "text": [
            "<class 'set'>\n",
            "{1, 'Hello', 3, 'Ni Hao'}\n"
          ]
        }
      ]
    },
    {
      "cell_type": "code",
      "source": [
        "center='simblopython'\n",
        "print(center.title())\n",
        "print(center.capitalize())\n",
        "print(center[3])"
      ],
      "metadata": {
        "colab": {
          "base_uri": "https://localhost:8080/"
        },
        "id": "ZArMmlhvub-l",
        "outputId": "197266f0-eeee-4a43-be3b-262fc11ade46"
      },
      "execution_count": null,
      "outputs": [
        {
          "output_type": "stream",
          "name": "stdout",
          "text": [
            "Simblopython\n",
            "Simblopython\n",
            "b\n"
          ]
        }
      ]
    },
    {
      "cell_type": "code",
      "source": [
        "center[0:9:2]"
      ],
      "metadata": {
        "colab": {
          "base_uri": "https://localhost:8080/",
          "height": 35
        },
        "id": "_0Fashy_uqOM",
        "outputId": "b0163ca5-050f-4b3c-b594-81b8adda7f4c"
      },
      "execution_count": null,
      "outputs": [
        {
          "output_type": "execute_result",
          "data": {
            "text/plain": [
              "'smlpt'"
            ],
            "application/vnd.google.colaboratory.intrinsic+json": {
              "type": "string"
            }
          },
          "metadata": {},
          "execution_count": 44
        }
      ]
    },
    {
      "cell_type": "code",
      "source": [
        "greeting=\"Hello guys welcome from Singapre\"\n",
        "seq= greeting.split('_')\n",
        "print(seq)"
      ],
      "metadata": {
        "colab": {
          "base_uri": "https://localhost:8080/"
        },
        "id": "D8cQvQ10xL_a",
        "outputId": "f2579ac8-6a5b-4f91-fa20-e2d1fc669e53"
      },
      "execution_count": null,
      "outputs": [
        {
          "output_type": "stream",
          "name": "stdout",
          "text": [
            "['Hello guys welcome from Singapre']\n"
          ]
        }
      ]
    },
    {
      "cell_type": "code",
      "source": [
        "for g in seq:\n",
        "  print(g)"
      ],
      "metadata": {
        "colab": {
          "base_uri": "https://localhost:8080/"
        },
        "id": "x5wOPgTVxWlw",
        "outputId": "71e7f8e9-ee1b-494a-ddb6-740f953360f3"
      },
      "execution_count": null,
      "outputs": [
        {
          "output_type": "stream",
          "name": "stdout",
          "text": [
            "Hello\n",
            "guys\n",
            "welcome\n",
            "from\n",
            "Singapre\n"
          ]
        }
      ]
    },
    {
      "cell_type": "code",
      "source": [
        "' '.join(seq)"
      ],
      "metadata": {
        "colab": {
          "base_uri": "https://localhost:8080/",
          "height": 35
        },
        "id": "WZ2l0cgixcwd",
        "outputId": "a7493086-795c-4eca-e80b-9e6c14aa1ae3"
      },
      "execution_count": null,
      "outputs": [
        {
          "output_type": "execute_result",
          "data": {
            "text/plain": [
              "'Hello guys welcome from Singapre'"
            ],
            "application/vnd.google.colaboratory.intrinsic+json": {
              "type": "string"
            }
          },
          "metadata": {},
          "execution_count": 49
        }
      ]
    },
    {
      "cell_type": "code",
      "source": [
        "'_'.join(seq)"
      ],
      "metadata": {
        "colab": {
          "base_uri": "https://localhost:8080/",
          "height": 35
        },
        "id": "BHq4WJQtxfuo",
        "outputId": "83f8834e-cf98-4265-c379-01f38ebe9f31"
      },
      "execution_count": null,
      "outputs": [
        {
          "output_type": "execute_result",
          "data": {
            "text/plain": [
              "'Hello_guys_welcome_from_Singapre'"
            ],
            "application/vnd.google.colaboratory.intrinsic+json": {
              "type": "string"
            }
          },
          "metadata": {},
          "execution_count": 50
        }
      ]
    },
    {
      "cell_type": "code",
      "source": [
        "import re"
      ],
      "metadata": {
        "id": "ow6bFQAg23cW"
      },
      "execution_count": null,
      "outputs": []
    },
    {
      "cell_type": "code",
      "source": [
        "phoneNumRegex=re.compile(r'\\d\\d\\d-\\d\\d\\d-\\d\\d\\d\\d')"
      ],
      "metadata": {
        "id": "OQBMdMfA25-y"
      },
      "execution_count": null,
      "outputs": []
    },
    {
      "cell_type": "code",
      "source": [
        "mo=phoneNumRegex.search('My number is 515-333-4343')\n",
        "print(mo)\n",
        "print(\"Phone Number Found:\",mo.group())\n",
        "mo == None"
      ],
      "metadata": {
        "colab": {
          "base_uri": "https://localhost:8080/"
        },
        "id": "h0WJdJkS3DlH",
        "outputId": "e794bdcd-24d6-4a7e-8f1f-2ff16df05a39"
      },
      "execution_count": null,
      "outputs": [
        {
          "output_type": "stream",
          "name": "stdout",
          "text": [
            "<re.Match object; span=(13, 25), match='515-333-4343'>\n",
            "Phone Number Found: 515-333-4343\n"
          ]
        },
        {
          "output_type": "execute_result",
          "data": {
            "text/plain": [
              "False"
            ]
          },
          "metadata": {},
          "execution_count": 62
        }
      ]
    },
    {
      "cell_type": "code",
      "source": [
        "phoneNumRegex=re.compile(r'(\\d\\d\\d)-(\\d\\d\\d-\\d\\d\\d\\d)')\n",
        "mo=phoneNumRegex.search('My number is 413-222-3434')\n",
        "print(mo.group(1))\n",
        "print(mo.group(2))\n",
        "#print(mo.group(3))"
      ],
      "metadata": {
        "colab": {
          "base_uri": "https://localhost:8080/"
        },
        "id": "Hy5atDA_5Q-P",
        "outputId": "7f46444d-b9c8-446d-bb55-89eb0add6699"
      },
      "execution_count": null,
      "outputs": [
        {
          "output_type": "stream",
          "name": "stdout",
          "text": [
            "413\n",
            "222-3434\n"
          ]
        }
      ]
    },
    {
      "cell_type": "code",
      "source": [
        "print(mo.groups())\n",
        "areacode,main_number=mo.groups()\n",
        "print(areacode)\n",
        "print(main_number)"
      ],
      "metadata": {
        "colab": {
          "base_uri": "https://localhost:8080/"
        },
        "id": "_lVq4zVM5q_X",
        "outputId": "52f24cf0-73e0-4a74-fb76-7f7670697a67"
      },
      "execution_count": null,
      "outputs": [
        {
          "output_type": "stream",
          "name": "stdout",
          "text": [
            "('413', '222-3434')\n",
            "413\n",
            "222-3434\n"
          ]
        }
      ]
    },
    {
      "cell_type": "code",
      "source": [
        "phoneNumRegex=re.compile(r'(\\(\\d\\d\\d\\)) \\d\\d\\d-\\d\\d\\d\\d')\n",
        "mo=phoneNumRegex.search('My phone number is (232) 333-2323')\n",
        "print(mo.group())\n",
        "print(mo.group(1))\n",
        "mo==None"
      ],
      "metadata": {
        "colab": {
          "base_uri": "https://localhost:8080/"
        },
        "id": "MQM_zTYA65zA",
        "outputId": "4eac9713-197a-4590-be14-5fdd32f5a257"
      },
      "execution_count": null,
      "outputs": [
        {
          "output_type": "stream",
          "name": "stdout",
          "text": [
            "(232) 333-2323\n",
            "(232)\n"
          ]
        },
        {
          "output_type": "execute_result",
          "data": {
            "text/plain": [
              "False"
            ]
          },
          "metadata": {},
          "execution_count": 67
        }
      ]
    },
    {
      "cell_type": "code",
      "source": [
        "heroRegex=re.compile(r'Batman|TinaFey|Barbie')\n",
        "mo1=heroRegex.search('Barbie and the prince')\n",
        "print(mo1.group())"
      ],
      "metadata": {
        "colab": {
          "base_uri": "https://localhost:8080/"
        },
        "id": "zGnOuDiI7mUr",
        "outputId": "e2631beb-3ddc-4a9b-8017-0c988b469ef8"
      },
      "execution_count": null,
      "outputs": [
        {
          "output_type": "stream",
          "name": "stdout",
          "text": [
            "Barbie\n"
          ]
        }
      ]
    },
    {
      "cell_type": "code",
      "source": [
        "batRegex=re.compile(r'a(b)*c')\n",
        "mo1=batRegex.search(\"The adventure of abc\")\n",
        "mo1.group()"
      ],
      "metadata": {
        "colab": {
          "base_uri": "https://localhost:8080/",
          "height": 35
        },
        "id": "Nxn3Rex-iIfy",
        "outputId": "d6830561-cdde-403e-cfc5-bd9d0fdff3b4"
      },
      "execution_count": null,
      "outputs": [
        {
          "output_type": "execute_result",
          "data": {
            "text/plain": [
              "'abc'"
            ],
            "application/vnd.google.colaboratory.intrinsic+json": {
              "type": "string"
            }
          },
          "metadata": {},
          "execution_count": 8
        }
      ]
    },
    {
      "cell_type": "code",
      "source": [
        "batRegex=re.compile(r'a(b)+c')\n",
        "mo1=batRegex.search(\"abbbbbc\")\n",
        "print(mo1.group())"
      ],
      "metadata": {
        "colab": {
          "base_uri": "https://localhost:8080/"
        },
        "id": "3DLgVrDqiZeu",
        "outputId": "d2f37407-125a-4076-8c81-c4f4ebc73f45"
      },
      "execution_count": null,
      "outputs": [
        {
          "output_type": "stream",
          "name": "stdout",
          "text": [
            "abbbbbc\n"
          ]
        }
      ]
    },
    {
      "cell_type": "code",
      "source": [
        "phoneNumRegex= re.compile(r'\\d\\d\\d-\\d\\d\\d-\\d\\d\\d\\d')\n",
        "mo=phoneNumRegex.search('Cell:415-555-9999 Work:212-555-0000')\n",
        "mo.group()"
      ],
      "metadata": {
        "colab": {
          "base_uri": "https://localhost:8080/",
          "height": 35
        },
        "id": "WSWMn9jEi8It",
        "outputId": "a2207a4a-9fd6-4f31-e5da-40ece442edd5"
      },
      "execution_count": null,
      "outputs": [
        {
          "output_type": "execute_result",
          "data": {
            "text/plain": [
              "'415-555-9999'"
            ],
            "application/vnd.google.colaboratory.intrinsic+json": {
              "type": "string"
            }
          },
          "metadata": {},
          "execution_count": 6
        }
      ]
    },
    {
      "cell_type": "code",
      "source": [
        "phoneNumRegex=re.compile(r'\\d\\d\\d-\\d\\d\\d-\\d\\d\\d\\d')\n",
        "print(phoneNumRegex.findall('Cell:415-555-9999 Work:212-555-0000'))"
      ],
      "metadata": {
        "colab": {
          "base_uri": "https://localhost:8080/"
        },
        "id": "IMYFqMntjTW7",
        "outputId": "c794dd23-b0a8-4d3e-d13f-0fc9f5e396e7"
      },
      "execution_count": null,
      "outputs": [
        {
          "output_type": "stream",
          "name": "stdout",
          "text": [
            "['415-555-9999', '212-555-0000']\n"
          ]
        }
      ]
    },
    {
      "cell_type": "code",
      "source": [
        "xmasRegex= re.compiler(r'\\d+\\W+')\n",
        "xmasRegex.findall('1234_drummers,11_pipers,lords,9_ladies')"
      ],
      "metadata": {
        "id": "KYt-Tf9Ylm14"
      },
      "execution_count": null,
      "outputs": []
    }
  ]
}